{
 "cells": [
  {
   "cell_type": "markdown",
   "metadata": {},
   "source": [
    "# Prueba para científico de datos\n",
    "\n",
    "## Instrucciones\n",
    "\n",
    "Por favor, siga al siguiente enlace y siga las instrucciones. Una vez haya terminado, continue con el notebook.\n",
    "\n",
    "FALTA EL ENLACE ACA\n",
    "\n",
    "Puede utilizar cualquier librería que desee a menos que se especifique lo contrario. \n",
    "\n",
    "## Parte 1 - Cargar datos y estadísticas básicas\n",
    "\n",
    "En la carpeta ```Data``` encontrará un archivo llamado ```diamonds.csv```. Este archivo contiene información de 53940 diamantes. Dentro de la información disponible, está el precio, el color, el peso, etc. Puede consultar las características completas del dataset en [este enlace](https://www.kaggle.com/shivam2503/diamonds).\n",
    "\n",
    "1. Cargue el archivo en un dataframe de pandas \n",
    "2. Use los metodos que conozca para describir las propiedades básicas de los datos. Le será útil para las siguientes secciones."
   ]
  },
  {
   "cell_type": "code",
   "execution_count": 12,
   "metadata": {},
   "outputs": [],
   "source": [
    "# Respuesta a la parte 1\n",
    "\n"
   ]
  },
  {
   "cell_type": "markdown",
   "metadata": {},
   "source": [
    "## Parte 2 - Aprendizaje no supervisado\n",
    "\n",
    "Usted desea encontrar estructura en los datos que le han sido dados. \n",
    "1. A partir del dataframe que cargó en el primer punto, use algún algoritmo de aprendizaje no supervisado para encontrar clusters de diamantes con propiedades similares. \n",
    "2. En una celda de markdown, describa una métrica/método que se pueda utilizar para evaluar qué tan bien sus clusters describen los datos. \n",
    "3. Varie $k$ (a cantidad de clusters) de 1 a 10 y grafique su métrica en función de $k$\n",
    "4. Qué $k$ describe mejor sus datos? "
   ]
  },
  {
   "cell_type": "code",
   "execution_count": 4,
   "metadata": {},
   "outputs": [],
   "source": [
    "# Respuesta a la parte 2 \n",
    "\n",
    "\n"
   ]
  },
  {
   "cell_type": "markdown",
   "metadata": {},
   "source": [
    "## Parte 3 - Regresión\n",
    "\n"
   ]
  },
  {
   "cell_type": "code",
   "execution_count": null,
   "metadata": {},
   "outputs": [],
   "source": []
  }
 ],
 "metadata": {
  "kernelspec": {
   "display_name": "Python 3",
   "language": "python",
   "name": "python3"
  },
  "language_info": {
   "codemirror_mode": {
    "name": "ipython",
    "version": 3
   },
   "file_extension": ".py",
   "mimetype": "text/x-python",
   "name": "python",
   "nbconvert_exporter": "python",
   "pygments_lexer": "ipython3",
   "version": "3.7.3"
  }
 },
 "nbformat": 4,
 "nbformat_minor": 4
}
